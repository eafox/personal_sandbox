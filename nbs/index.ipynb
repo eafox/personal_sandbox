{
 "cells": [
  {
   "cell_type": "code",
   "execution_count": null,
   "metadata": {},
   "outputs": [],
   "source": [
    "# | hide\n",
    "from personal_sandbox.core import *  # noqa: F403"
   ]
  },
  {
   "cell_type": "markdown",
   "metadata": {},
   "source": [
    "# Personal Sandbox\n",
    "\n",
    "> Somewhere to try all the cool things I've been seeing"
   ]
  },
  {
   "cell_type": "markdown",
   "metadata": {},
   "source": "## How I set this up"
  },
  {
   "cell_type": "markdown",
   "metadata": {},
   "source": [
    "To start, I created a new repository on GitHub, cloned it to my local machine, and then followed the  [start-up instructions for nbdev](https://nbdev.fast.ai/tutorials/tutorial.html#install-nbdev), although I used the terminal rather than JupyterLab. This included installing [nbdev](https://nbdev.fast.ai/) and [Quarto](https://quarto.org/).\n",
    "\n",
    "Once you run `nbdev_new`, the tutorial also takes you through... \n",
    "\n",
    "* the creation of a [GitHub Pages](https://pages.github.com/) site for the new repo and how to [preview the pages locally](https://nbdev.fast.ai/tutorials/tutorial.html#preview-your-docs), \n",
    "* setting up [nbdev's pre-commit hooks](https://nbdev.fast.ai/tutorials/tutorial.html#install-hooks-for-git-friendly-notebooks) to clean notebook metadata (which prevents unnecessary merge conflicts), and\n",
    "* setting up [GitHub Actions](https://docs.github.com/en/actions) to run automatically when code is pushed to the master branch.\n",
    "\n",
    "I also added [Ruff](https://docs.astral.sh/ruff/) to the pre-commit hooks to lint and format the code, including notebooks. \n"
   ]
  },
  {
   "metadata": {},
   "cell_type": "markdown",
   "source": "## What comes next"
  },
  {
   "metadata": {},
   "cell_type": "markdown",
   "source": [
    "* Find a large dataset to work with or look into simulation example problems.\n",
    "* Set up logging.\n",
    "* Set up a project on DigitalOcean (with very extensive spend limits) and practice using its various APIs.\n",
    "* Use [Ibis](https://docs.ibis-project.org/) to interact with a database.\n",
    "* Experiment with [terraform](https://developer.hashicorp.com/terraform/cdktf/api-reference/python/).\n",
    "* Set up an environment using [Docker](https://www.jetbrains.com/help/pycharm/using-docker-as-a-remote-interpreter.html#example).\n",
    "* Manage data artifacts with [Dagster](https://docs.dagster.io/).\n",
    "* Use [PySpark](https://spark.apache.org/docs/latest/api/python/index.html) to analyze a large dataset. \n",
    "* Add some tests with [nbdev](https://nbdev.fast.ai/tutorials/tutorial.html#add-your-own-examples-tests-and-docs) and [pytest](https://docs.pytest.org/en/8.2.x/).\n",
    "* Run something in parallel using a cluster and try running something serverless. \n",
    "* Run some static security analysis tools like [SonarQube](https://www.sonarsource.com/products/sonarqube/?s_campaign=SQ-US-States-Brand&s_content=SonarQube&s_term=sonarqube&s_category=Paid&s_source=Paid%20Search&s_origin=Google&cq_src=google_ads&cq_cmp=21283910625&cq_con=165359618347&cq_term=sonarqube&cq_med=&cq_plac=&cq_net=g&cq_pos=&cq_plt=gp&gad_source=1&gclid=CjwKCAjw1920BhA3EiwAJT3lSaglN4ruXT0CL6NiF8bG-wKb1-fz9UwT2KUtsNheiNaK-U5jz4ZR8xoC2XIQAvD_BwE), [Checkmarx](https://checkmarx.com/), or [Bandit](https://bandit.readthedocs.io/en/latest/).\n",
    "* Regularly check dependencies with [Dependabot](https://github.com/dependabot/dependabot-core) or [pip-audit](https://github.com/pypa/pip-audit). \n",
    "* Use a service like [DataBricks](https://databricks.com/).\n",
    "* Work on GCP's [MLOps certification](https://www.cloudskillsboost.google/paths/17) (they provide test environments, so you don't need to worry about over-spending)\n",
    "* [Contribute to an open-source project](https://www.reddit.com/r/learnpython/comments/17ue6hr/looking_for_beginnerfriendly_python_libraries_to/)."
   ]
  },
  {
   "cell_type": "code",
   "execution_count": null,
   "metadata": {},
   "outputs": [
    {
     "data": {
      "text/plain": [
       "2"
      ]
     },
     "execution_count": null,
     "metadata": {},
     "output_type": "execute_result"
    }
   ],
   "source": [
    "1 + 1"
   ]
  },
  {
   "cell_type": "code",
   "execution_count": null,
   "metadata": {},
   "outputs": [],
   "source": []
  }
 ],
 "metadata": {
  "kernelspec": {
   "display_name": "python3",
   "language": "python",
   "name": "python3"
  }
 },
 "nbformat": 4,
 "nbformat_minor": 4
}
